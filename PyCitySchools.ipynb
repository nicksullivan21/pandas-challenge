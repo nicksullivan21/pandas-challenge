{
 "metadata": {
  "language_info": {
   "codemirror_mode": {
    "name": "ipython",
    "version": 3
   },
   "file_extension": ".py",
   "mimetype": "text/x-python",
   "name": "python",
   "nbconvert_exporter": "python",
   "pygments_lexer": "ipython3",
   "version": "3.6.10-final"
  },
  "orig_nbformat": 2,
  "kernelspec": {
   "name": "python3",
   "display_name": "Python 3.6.10 64-bit ('PythonData': conda)",
   "metadata": {
    "interpreter": {
     "hash": "54e8119b40d2fdc5e54d14e0846c2ed0cc09c1bdbc8e2dfced23990a0351e4f6"
    }
   }
  }
 },
 "nbformat": 4,
 "nbformat_minor": 2,
 "cells": [
  {
   "cell_type": "code",
   "execution_count": 40,
   "metadata": {},
   "outputs": [
    {
     "output_type": "execute_result",
     "data": {
      "text/plain": [
       "   Student ID       student_name gender grade        school_name  \\\n",
       "0           0       Paul Bradley      M   9th  Huang High School   \n",
       "1           1       Victor Smith      M  12th  Huang High School   \n",
       "2           2    Kevin Rodriguez      M  12th  Huang High School   \n",
       "3           3  Dr. Richard Scott      M  12th  Huang High School   \n",
       "4           4         Bonnie Ray      F   9th  Huang High School   \n",
       "\n",
       "   reading_score  math_score  School ID      type  size   budget  \n",
       "0             66          79          0  District  2917  1910635  \n",
       "1             94          61          0  District  2917  1910635  \n",
       "2             90          60          0  District  2917  1910635  \n",
       "3             67          58          0  District  2917  1910635  \n",
       "4             97          84          0  District  2917  1910635  "
      ],
      "text/html": "<div>\n<style scoped>\n    .dataframe tbody tr th:only-of-type {\n        vertical-align: middle;\n    }\n\n    .dataframe tbody tr th {\n        vertical-align: top;\n    }\n\n    .dataframe thead th {\n        text-align: right;\n    }\n</style>\n<table border=\"1\" class=\"dataframe\">\n  <thead>\n    <tr style=\"text-align: right;\">\n      <th></th>\n      <th>Student ID</th>\n      <th>student_name</th>\n      <th>gender</th>\n      <th>grade</th>\n      <th>school_name</th>\n      <th>reading_score</th>\n      <th>math_score</th>\n      <th>School ID</th>\n      <th>type</th>\n      <th>size</th>\n      <th>budget</th>\n    </tr>\n  </thead>\n  <tbody>\n    <tr>\n      <th>0</th>\n      <td>0</td>\n      <td>Paul Bradley</td>\n      <td>M</td>\n      <td>9th</td>\n      <td>Huang High School</td>\n      <td>66</td>\n      <td>79</td>\n      <td>0</td>\n      <td>District</td>\n      <td>2917</td>\n      <td>1910635</td>\n    </tr>\n    <tr>\n      <th>1</th>\n      <td>1</td>\n      <td>Victor Smith</td>\n      <td>M</td>\n      <td>12th</td>\n      <td>Huang High School</td>\n      <td>94</td>\n      <td>61</td>\n      <td>0</td>\n      <td>District</td>\n      <td>2917</td>\n      <td>1910635</td>\n    </tr>\n    <tr>\n      <th>2</th>\n      <td>2</td>\n      <td>Kevin Rodriguez</td>\n      <td>M</td>\n      <td>12th</td>\n      <td>Huang High School</td>\n      <td>90</td>\n      <td>60</td>\n      <td>0</td>\n      <td>District</td>\n      <td>2917</td>\n      <td>1910635</td>\n    </tr>\n    <tr>\n      <th>3</th>\n      <td>3</td>\n      <td>Dr. Richard Scott</td>\n      <td>M</td>\n      <td>12th</td>\n      <td>Huang High School</td>\n      <td>67</td>\n      <td>58</td>\n      <td>0</td>\n      <td>District</td>\n      <td>2917</td>\n      <td>1910635</td>\n    </tr>\n    <tr>\n      <th>4</th>\n      <td>4</td>\n      <td>Bonnie Ray</td>\n      <td>F</td>\n      <td>9th</td>\n      <td>Huang High School</td>\n      <td>97</td>\n      <td>84</td>\n      <td>0</td>\n      <td>District</td>\n      <td>2917</td>\n      <td>1910635</td>\n    </tr>\n  </tbody>\n</table>\n</div>"
     },
     "metadata": {},
     "execution_count": 40
    }
   ],
   "source": [
    "# Dependencies and Setup\n",
    "import pandas as pd\n",
    "\n",
    "# File to Load (Remember to Change These)\n",
    "school_data_to_load = \"Resources/schools_complete.csv\"\n",
    "student_data_to_load = \"Resources/students_complete.csv\"\n",
    "\n",
    "# Read School and Student Data File and store into Pandas DataFrames\n",
    "school_data = pd.read_csv(school_data_to_load)\n",
    "student_data = pd.read_csv(student_data_to_load)\n",
    "\n",
    "# Combine the data into a single dataset.  \n",
    "school_data_complete = pd.merge(student_data, school_data, how=\"left\", on=[\"school_name\", \"school_name\"])\n",
    "school_data_complete.head()"
   ]
  },
  {
   "cell_type": "code",
   "execution_count": 41,
   "metadata": {},
   "outputs": [
    {
     "output_type": "execute_result",
     "data": {
      "text/plain": [
       "   Total Schools  Total Students  Total Budget  Average Math Score  \\\n",
       "0             15           39170      24649428           78.985371   \n",
       "\n",
       "   Average Reading Score  Percentage Passing Math  Percentage Passing Reading  \\\n",
       "0               81.87784                74.980853                   85.805463   \n",
       "\n",
       "   Overall Passing Rate  \n",
       "0             80.431606  "
      ],
      "text/html": "<div>\n<style scoped>\n    .dataframe tbody tr th:only-of-type {\n        vertical-align: middle;\n    }\n\n    .dataframe tbody tr th {\n        vertical-align: top;\n    }\n\n    .dataframe thead th {\n        text-align: right;\n    }\n</style>\n<table border=\"1\" class=\"dataframe\">\n  <thead>\n    <tr style=\"text-align: right;\">\n      <th></th>\n      <th>Total Schools</th>\n      <th>Total Students</th>\n      <th>Total Budget</th>\n      <th>Average Math Score</th>\n      <th>Average Reading Score</th>\n      <th>Percentage Passing Math</th>\n      <th>Percentage Passing Reading</th>\n      <th>Overall Passing Rate</th>\n    </tr>\n  </thead>\n  <tbody>\n    <tr>\n      <th>0</th>\n      <td>15</td>\n      <td>39170</td>\n      <td>24649428</td>\n      <td>78.985371</td>\n      <td>81.87784</td>\n      <td>74.980853</td>\n      <td>85.805463</td>\n      <td>80.431606</td>\n    </tr>\n  </tbody>\n</table>\n</div>"
     },
     "metadata": {},
     "execution_count": 41
    }
   ],
   "source": [
    "# District Summary\n",
    "# Total number of schools\n",
    "total_schools = len(school_data_complete[\"school_name\"].unique())\n",
    "\n",
    "# Total number of students\n",
    "total_students = len(school_data_complete)\n",
    "\n",
    "# Total budget\n",
    "total_budget = (school_data_complete[\"budget\"].unique()).sum()\n",
    "\n",
    "# Average math score\n",
    "avg_math = school_data_complete[\"math_score\"].mean()\n",
    "\n",
    "# Average reading score\n",
    "avg_read = school_data_complete[\"reading_score\"].mean()\n",
    "\n",
    "# Overall passing rate\n",
    "overall_passing_rate = (avg_math + avg_read)/2\n",
    "\n",
    "# Percentage of students passing math\n",
    "pct_passing_math = len(school_data_complete[school_data_complete[\"math_score\"] > 69]) / total_students * 100\n",
    "\n",
    "# Percentage of students passing reading\n",
    "pct_passing_reading = len(school_data_complete[school_data_complete[\"reading_score\"] > 69]) / total_students * 100\n",
    "\n",
    "# Create dataframe\n",
    "summary_df = pd.DataFrame([{\"Total Schools\": total_schools, \"Total Students\": total_students, \"Total Budget\": total_budget, \"Average Math Score\": avg_math, \"Average Reading Score\": avg_read, \"Percentage Passing Math\": pct_passing_math, \"Percentage Passing Reading\": pct_passing_reading, \"Overall Passing Rate\": overall_passing_rate}])\n",
    "\n",
    "summary_df.head()"
   ]
  },
  {
   "cell_type": "code",
   "execution_count": 48,
   "metadata": {},
   "outputs": [],
   "source": [
    "# School Summary\n",
    "# Create dataframe\n",
    "school_df = school_data[[\"school_name\", \"type\", \"size\", \"budget\"]]\n",
    "\n",
    "# Add per student budget column\n",
    "school_df[\"Per Student Budget\"] = school_df[\"budget\"] / school_df[\"size\"]\n",
    "\n",
    "# Group data by school name\n",
    "grouped_student_data = student_data.groupby([\"school_name\"], as_index= False)\n",
    "\n",
    "# Create dataframe for average math score\n",
    "avg_math_df = pd.DataFrame(grouped_student_data[\"math_score\"].mean())\n",
    "\n",
    "# Create dataframe for average reading score\n",
    "avg_read_df = pd.DataFrame(grouped_student_data[\"reading_score\"].mean())\n",
    "\n",
    "# Create dataframe to calculate percentage passing math per school\n",
    "pct_passing_math_df = student_data[student_data[\"math_score\"] > 69]\n",
    "grouped_pct_passing_math = pct_passing_math_df.groupby([\"school_name\"], as_index= False)\n",
    "pct_passing_math_by_school_df = pd.DataFrame(grouped_pct_passing_math[\"math_score\"].count())\n",
    "\n",
    "# Create dataframe to calculate percentage passing reading per school\n",
    "pct_passing_read_df = student_data[student_data[\"reading_score\"] > 69]\n",
    "grouped_pct_passing_read = pct_passing_read_df.groupby([\"school_name\"], as_index= False)\n",
    "pct_passing_read_by_school_df = pd.DataFrame(grouped_pct_passing_read[\"reading_score\"].count())\n",
    "\n",
    "# Create dataframe to calculate overall percentage passing per school\n",
    "overall_passing_rate_df = student_data.copy()\n",
    "overall_passing_rate_df[\"overall_score\"] = (overall_passing_rate_df[\"math_score\"] + overall_passing_rate_df[\"reading_score\"])/2\n",
    "overall_pass_percentage = overall_passing_rate_df[overall_passing_rate_df[\"overall_score\"]>69]\n",
    "grouped_pct_passing_overall = overall_pass_percentage.groupby([\"school_name\"], as_index = False)\n",
    "final_overall_passing_rate = pd.DataFrame(grouped_pct_passing_overall[\"overall_score\"].count())\n",
    "\n",
    "# Merge DataFrames\n",
    "df1 = pd.merge(school_df, avg_math_df, how=\"outer\", on=[\"school_name\"])\n",
    "df2 = pd.merge(df1, avg_read_df, how=\"outer\", on=[\"school_name\"])\n",
    "df3 = pd.merge(df2, pct_passing_math_by_school_df, how=\"outer\", on=[\"school_name\"])\n",
    "df4 = pd.merge(df3, pct_passing_read_by_school_df, how=\"outer\", on=[\"school_name\"])\n",
    "final_df = pd.merge(df4, final_overall_passing_rate, how=\"outer\", on=[\"school_name\"])\n",
    "\n",
    "# Calculate percentage passing math by school\n",
    "final_df[\"Percentage Passing Math\"] = final_df[\"math_score_y\"] / final_df[\"size\"] * 100\n",
    "\n",
    "# Calculate percentage passing reading by school\n",
    "final_df[\"Percentage Passing Reading\"] = final_df[\"reading_score_y\"] / final_df[\"size\"] * 100\n",
    "\n",
    "# Calculate overall percentage passing by school\n",
    "final_df[\"Overall Passing Rate\"] = final_df[\"overall_score\"] / final_df[\"size\"] * 100\n",
    "\n",
    "# Rename columns\n",
    "final_df = final_df.rename(columns = {\"school_name\": \"School Name\", \"type\" : \"School Type\", \"size\" : \"Total Students\", \"budget\" : \"Total School Budget\", \"math_score_x\" : \"Average Math Score\",\"reading_score_x\" : \"Average Reading Score\"})\n",
    "\n",
    "# Delete unnecessary columns\n",
    "del final_df[\"math_score_y\"]\n",
    "del final_df[\"reading_score_y\"]\n",
    "del final_df[\"overall_score\"]"
   ]
  },
  {
   "cell_type": "code",
   "execution_count": 49,
   "metadata": {},
   "outputs": [
    {
     "output_type": "execute_result",
     "data": {
      "text/plain": [
       "            School Name School Type  Total Students  Total School Budget  \\\n",
       "6   Cabrera High School     Charter            1858              1081356   \n",
       "2   Shelton High School     Charter            1761              1056600   \n",
       "4   Griffin High School     Charter            1468               917500   \n",
       "10   Wright High School     Charter            1800              1049400   \n",
       "5    Wilson High School     Charter            2283              1319574   \n",
       "\n",
       "    Per Student Budget  Average Math Score  Average Reading Score  \\\n",
       "6                582.0           83.061895              83.975780   \n",
       "2                600.0           83.359455              83.725724   \n",
       "4                625.0           83.351499              83.816757   \n",
       "10               583.0           83.682222              83.955000   \n",
       "5                578.0           83.274201              83.989488   \n",
       "\n",
       "    Percentage Passing Math  Percentage Passing Reading  Overall Passing Rate  \n",
       "6                 94.133477                   97.039828             99.784715  \n",
       "2                 93.867121                   95.854628             99.772856  \n",
       "4                 93.392371                   97.138965             99.727520  \n",
       "10                93.333333                   96.611111             99.611111  \n",
       "5                 93.867718                   96.539641             99.605782  "
      ],
      "text/html": "<div>\n<style scoped>\n    .dataframe tbody tr th:only-of-type {\n        vertical-align: middle;\n    }\n\n    .dataframe tbody tr th {\n        vertical-align: top;\n    }\n\n    .dataframe thead th {\n        text-align: right;\n    }\n</style>\n<table border=\"1\" class=\"dataframe\">\n  <thead>\n    <tr style=\"text-align: right;\">\n      <th></th>\n      <th>School Name</th>\n      <th>School Type</th>\n      <th>Total Students</th>\n      <th>Total School Budget</th>\n      <th>Per Student Budget</th>\n      <th>Average Math Score</th>\n      <th>Average Reading Score</th>\n      <th>Percentage Passing Math</th>\n      <th>Percentage Passing Reading</th>\n      <th>Overall Passing Rate</th>\n    </tr>\n  </thead>\n  <tbody>\n    <tr>\n      <th>6</th>\n      <td>Cabrera High School</td>\n      <td>Charter</td>\n      <td>1858</td>\n      <td>1081356</td>\n      <td>582.0</td>\n      <td>83.061895</td>\n      <td>83.975780</td>\n      <td>94.133477</td>\n      <td>97.039828</td>\n      <td>99.784715</td>\n    </tr>\n    <tr>\n      <th>2</th>\n      <td>Shelton High School</td>\n      <td>Charter</td>\n      <td>1761</td>\n      <td>1056600</td>\n      <td>600.0</td>\n      <td>83.359455</td>\n      <td>83.725724</td>\n      <td>93.867121</td>\n      <td>95.854628</td>\n      <td>99.772856</td>\n    </tr>\n    <tr>\n      <th>4</th>\n      <td>Griffin High School</td>\n      <td>Charter</td>\n      <td>1468</td>\n      <td>917500</td>\n      <td>625.0</td>\n      <td>83.351499</td>\n      <td>83.816757</td>\n      <td>93.392371</td>\n      <td>97.138965</td>\n      <td>99.727520</td>\n    </tr>\n    <tr>\n      <th>10</th>\n      <td>Wright High School</td>\n      <td>Charter</td>\n      <td>1800</td>\n      <td>1049400</td>\n      <td>583.0</td>\n      <td>83.682222</td>\n      <td>83.955000</td>\n      <td>93.333333</td>\n      <td>96.611111</td>\n      <td>99.611111</td>\n    </tr>\n    <tr>\n      <th>5</th>\n      <td>Wilson High School</td>\n      <td>Charter</td>\n      <td>2283</td>\n      <td>1319574</td>\n      <td>578.0</td>\n      <td>83.274201</td>\n      <td>83.989488</td>\n      <td>93.867718</td>\n      <td>96.539641</td>\n      <td>99.605782</td>\n    </tr>\n  </tbody>\n</table>\n</div>"
     },
     "metadata": {},
     "execution_count": 49
    }
   ],
   "source": [
    "# Top Performing Schools\n",
    "# Sort to find top 5 schools\n",
    "final_sorted_df = final_df.sort_values(\"Overall Passing Rate\", ascending = False)\n",
    "final_sorted_df.head()"
   ]
  },
  {
   "cell_type": "code",
   "execution_count": 50,
   "metadata": {},
   "outputs": [
    {
     "output_type": "execute_result",
     "data": {
      "text/plain": [
       "              School Name School Type  Total Students  Total School Budget  \\\n",
       "1    Figueroa High School    District            2949              1884411   \n",
       "13       Ford High School    District            2739              1763916   \n",
       "11  Rodriguez High School    District            3999              2547363   \n",
       "7      Bailey High School    District            4976              3124928   \n",
       "0       Huang High School    District            2917              1910635   \n",
       "\n",
       "    Per Student Budget  Average Math Score  Average Reading Score  \\\n",
       "1                639.0           76.711767              81.158020   \n",
       "13               644.0           77.102592              80.746258   \n",
       "11               637.0           76.842711              80.744686   \n",
       "7                628.0           77.048432              81.033963   \n",
       "0                655.0           76.629414              81.182722   \n",
       "\n",
       "    Percentage Passing Math  Percentage Passing Reading  Overall Passing Rate  \n",
       "1                 65.988471                   80.739234             85.961343  \n",
       "13                68.309602                   79.299014             86.199343  \n",
       "11                66.366592                   80.220055             86.246562  \n",
       "7                 66.680064                   81.933280             86.274116  \n",
       "0                 65.683922                   81.316421             86.287281  "
      ],
      "text/html": "<div>\n<style scoped>\n    .dataframe tbody tr th:only-of-type {\n        vertical-align: middle;\n    }\n\n    .dataframe tbody tr th {\n        vertical-align: top;\n    }\n\n    .dataframe thead th {\n        text-align: right;\n    }\n</style>\n<table border=\"1\" class=\"dataframe\">\n  <thead>\n    <tr style=\"text-align: right;\">\n      <th></th>\n      <th>School Name</th>\n      <th>School Type</th>\n      <th>Total Students</th>\n      <th>Total School Budget</th>\n      <th>Per Student Budget</th>\n      <th>Average Math Score</th>\n      <th>Average Reading Score</th>\n      <th>Percentage Passing Math</th>\n      <th>Percentage Passing Reading</th>\n      <th>Overall Passing Rate</th>\n    </tr>\n  </thead>\n  <tbody>\n    <tr>\n      <th>1</th>\n      <td>Figueroa High School</td>\n      <td>District</td>\n      <td>2949</td>\n      <td>1884411</td>\n      <td>639.0</td>\n      <td>76.711767</td>\n      <td>81.158020</td>\n      <td>65.988471</td>\n      <td>80.739234</td>\n      <td>85.961343</td>\n    </tr>\n    <tr>\n      <th>13</th>\n      <td>Ford High School</td>\n      <td>District</td>\n      <td>2739</td>\n      <td>1763916</td>\n      <td>644.0</td>\n      <td>77.102592</td>\n      <td>80.746258</td>\n      <td>68.309602</td>\n      <td>79.299014</td>\n      <td>86.199343</td>\n    </tr>\n    <tr>\n      <th>11</th>\n      <td>Rodriguez High School</td>\n      <td>District</td>\n      <td>3999</td>\n      <td>2547363</td>\n      <td>637.0</td>\n      <td>76.842711</td>\n      <td>80.744686</td>\n      <td>66.366592</td>\n      <td>80.220055</td>\n      <td>86.246562</td>\n    </tr>\n    <tr>\n      <th>7</th>\n      <td>Bailey High School</td>\n      <td>District</td>\n      <td>4976</td>\n      <td>3124928</td>\n      <td>628.0</td>\n      <td>77.048432</td>\n      <td>81.033963</td>\n      <td>66.680064</td>\n      <td>81.933280</td>\n      <td>86.274116</td>\n    </tr>\n    <tr>\n      <th>0</th>\n      <td>Huang High School</td>\n      <td>District</td>\n      <td>2917</td>\n      <td>1910635</td>\n      <td>655.0</td>\n      <td>76.629414</td>\n      <td>81.182722</td>\n      <td>65.683922</td>\n      <td>81.316421</td>\n      <td>86.287281</td>\n    </tr>\n  </tbody>\n</table>\n</div>"
     },
     "metadata": {},
     "execution_count": 50
    }
   ],
   "source": [
    "# Worst Performing Schools\n",
    "# Sort to find worst 5 schools\n",
    "final_sorted_worst_df = final_df.sort_values(\"Overall Passing Rate\", ascending = True)\n",
    "final_sorted_worst_df.head()"
   ]
  },
  {
   "cell_type": "code",
   "execution_count": null,
   "metadata": {},
   "outputs": [],
   "source": []
  }
 ]
}